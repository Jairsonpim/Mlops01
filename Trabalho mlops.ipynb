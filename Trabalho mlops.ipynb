{
  "cells": [
    {
      "cell_type": "code",
      "execution_count": 1,
      "metadata": {},
      "outputs": [],
      "source": [
        "#pip install requests"
      ]
    },
    {
      "cell_type": "code",
      "execution_count": 2,
      "metadata": {
        "id": "bL7_Uitf-_Uv"
      },
      "outputs": [],
      "source": [
        "import requests\n",
        "import json\n",
        "from tkinter import *"
      ]
    },
    {
      "cell_type": "markdown",
      "metadata": {},
      "source": [
        "Configurações para Executar Modelos em Docker Local "
      ]
    },
    {
      "cell_type": "code",
      "execution_count": 3,
      "metadata": {
        "id": "AII-AcywAFml"
      },
      "outputs": [],
      "source": [
        "#IP do servidor local da aplicação no docker:\n",
        "app_ip = \"localhost\"\n",
        "\n",
        "#Porta do servidor de predição de Fraude especificada no docker:\n",
        "fraude_porta = \"10005\"\n",
        "\n",
        "#Porta do servidor de predição de Inadimplencia especificada no docker:\n",
        "inadimplencia_porta = \"10006\""
      ]
    },
    {
      "cell_type": "markdown",
      "metadata": {},
      "source": [
        "## Parte 1 – Propensão de inadimplência (Modelo 'Fake')"
      ]
    },
    {
      "cell_type": "code",
      "execution_count": 4,
      "metadata": {
        "id": "qE27sOO0GPFC"
      },
      "outputs": [],
      "source": [
        "# informe o cpf\n",
        "cpf01 = \"123456789\""
      ]
    },
    {
      "cell_type": "code",
      "execution_count": 5,
      "metadata": {
        "colab": {
          "base_uri": "https://localhost:8080/",
          "height": 436
        },
        "id": "ufspC1N0ExsM",
        "outputId": "ce146c4f-95c0-41d6-fe40-3e6dcf9dc6cb"
      },
      "outputs": [
        {
          "data": {
            "text/plain": [
              "{'Consulta Risco de Inadimplencia para o CPF': '123456789',\n",
              " 'Resultado': 1,\n",
              " 'Situacao': 'inadimplente',\n",
              " 'Mensagem': 'Obrigado pela chamada de API'}"
            ]
          },
          "execution_count": 5,
          "metadata": {},
          "output_type": "execute_result"
        }
      ],
      "source": [
        "url01 = \"http://{}:{}/inadimplencia?cpf={}\".format(app_ip, inadimplencia_porta,cpf01)\n",
        "\n",
        "response01 = requests.request(\"POST\",url01)\n",
        "respostas01 = json.loads(response01.text.encode('utf8').decode())\n",
        "respostas01"
      ]
    },
    {
      "cell_type": "markdown",
      "metadata": {},
      "source": [
        "## Parte 2 – Propensão a Fraude (Modelo 'Fake')"
      ]
    },
    {
      "cell_type": "code",
      "execution_count": 8,
      "metadata": {},
      "outputs": [],
      "source": [
        "# informe o cpf\n",
        "cpf02 = \"459489461\""
      ]
    },
    {
      "cell_type": "code",
      "execution_count": 9,
      "metadata": {
        "colab": {
          "base_uri": "https://localhost:8080/",
          "height": 85
        },
        "id": "3X_p_bAPFXhr",
        "outputId": "209879fc-d4b3-41a0-f610-d0862038a978"
      },
      "outputs": [
        {
          "data": {
            "text/plain": [
              "{'Consulta Risco de Inadimplencia para o CPF': '459489461',\n",
              " 'Resultado': 0,\n",
              " 'Situacao': 'normal',\n",
              " 'Mensagem': 'Obrigado pela chamada de API'}"
            ]
          },
          "execution_count": 9,
          "metadata": {},
          "output_type": "execute_result"
        }
      ],
      "source": [
        "url02 = \"http://{}:{}/inadimplencia?cpf={}\".format(app_ip,inadimplencia_porta,cpf02)\n",
        "response02 = requests.request(\"POST\",url02)\n",
        "respostas02 = json.loads(response02.text.encode('utf8').decode())\n",
        "respostas02"
      ]
    },
    {
      "cell_type": "markdown",
      "metadata": {},
      "source": [
        "## Parte 3 – Criação da Plataforma Cognitiva (Model Manager) na Azure."
      ]
    },
    {
      "cell_type": "code",
      "execution_count": 1,
      "metadata": {},
      "outputs": [],
      "source": [
        "#IP do Maquina Virtual na Azure:\n",
        "server_ip = \"40.76.106.228\"\n",
        "\n",
        "#Porta do servidor de predição na Azure:\n",
        "server_port = \"443\"\n",
        "\n",
        "url = \"http://{}:{}/predict\".format(server_ip,server_port)"
      ]
    },
    {
      "cell_type": "markdown",
      "metadata": {},
      "source": [
        "CPF do cliente será submetido aos dois modelos para a análise de Risco de Fraude e Inadimplencia."
      ]
    },
    {
      "cell_type": "code",
      "execution_count": 3,
      "metadata": {},
      "outputs": [],
      "source": [
        "# informe o cpf\n",
        "cpf = \"123456789\""
      ]
    },
    {
      "cell_type": "code",
      "execution_count": 5,
      "metadata": {},
      "outputs": [
        {
          "data": {
            "text/plain": [
              "{'Consulta Risco de Inadimplencia para o CPF': '1234567890',\n",
              " 'Resultado': 0,\n",
              " 'Situacao': 'normal',\n",
              " 'Mensagem': 'Obrigado pela chamada de API'}"
            ]
          },
          "execution_count": 5,
          "metadata": {},
          "output_type": "execute_result"
        }
      ],
      "source": [
        "response001 = requests.request(\"POST\", url + f\"?model=modelo01&cpf={cpf}\" )\n",
        "resposta001 = json.loads(response001.text.encode('utf8').decode())\n",
        "resposta001"
      ]
    },
    {
      "cell_type": "code",
      "execution_count": 6,
      "metadata": {},
      "outputs": [
        {
          "data": {
            "text/plain": [
              "{'Consulta Risco de Fraude para o CPF': '1234567890',\n",
              " 'Resultado': 'Grupo de Clientes de Baixa Renda, Persona Estudante Universitario, Alto Risco',\n",
              " 'Mensagem': 'Obrigado pela chamada de API'}"
            ]
          },
          "execution_count": 6,
          "metadata": {},
          "output_type": "execute_result"
        }
      ],
      "source": [
        "response002 = requests.request(\"POST\", url + f\"?model=modelo02&cpf={cpf}\" )\n",
        "resposta002 = json.loads(response002.text.encode('utf8').decode())\n",
        "resposta002"
      ]
    },
    {
      "cell_type": "markdown",
      "metadata": {},
      "source": [
        "## Parte 4 – Demonstração de Análise de Crédito com FrontEnd \n",
        "## (OBS: Necessário Ambiente na Azure estar ativo!!!)"
      ]
    },
    {
      "cell_type": "markdown",
      "metadata": {},
      "source": [
        "Basicamente a Análise consiste em uma consulta fictícia em uma base de dados onde o Sistema levará em consideração os seguintes critérios de acordo com o resultado dos modelos:\n",
        "\n",
        "Consulta Inadimplencia: Verifica se o cliente (cpf) possui boa reputação no mercado quanto à Inadimplencia de acordo com os seguntes resultados: (0 - Situação Normal, 1 - Inadimplente)\n",
        "\n",
        "Caso o sistema retorne 1 - Inadimplente, a Concessão de Crédito para o cliente é Negada. \n",
        "Caso o sistema retorne 0 - Normal, será feita uma consulta quanto a Risco de Fraude.\n",
        "\n",
        "Consulta Risco de Fraude: Com base em uma base histórica fictícia, será feita uma análise quanto a Risco de Fraude de acordo com agrupamentos de clientes e tipo de persona podendo resultar em tres categorias de risco: (Alto Risco, Medio Risco e Baixo Risco)\n",
        "\n",
        "Caso o sistema retorne 'Alto Risco' - A Concessão de Crédito para o cliente sera Negada. \n",
        "Caso o sistema retorne 'Medio Risco' - A Concessão de Crédito será direcionada para uma Avaliação de acordo com as Regras do Banco/Financeira. \n",
        "Caso o sistema retorne 'Baixo Risco' - A Concessão de Crédito para o cliente sera Aceita. "
      ]
    },
    {
      "cell_type": "code",
      "execution_count": 9,
      "metadata": {},
      "outputs": [],
      "source": [
        "def analise_cred():\n",
        "\n",
        "    cpf = get_cpf()\n",
        "\n",
        "    response001 = requests.request(\"POST\", url + f\"?model=modelo01&cpf={cpf}\" )\n",
        "    resposta001 = json.loads(response001.text.encode('utf8').decode())\n",
        "    response002 = requests.request(\"POST\", url + f\"?model=modelo02&cpf={cpf}\" )\n",
        "    resposta002 = json.loads(response002.text.encode('utf8').decode())\n",
        "\n",
        "    resp_cpf['text'] = f'''\n",
        "        Consulta CPF: {cpf}'''    \n",
        "\n",
        "    if (resposta001['Resultado']) == 1:\n",
        "        texto_resposta['text'] = f'''\n",
        "        Consessão de Crédito Negada!\n",
        "        Motivo: Cliente com Alto Risco de Inadimplencia no Mercado.'''    \n",
        "    else:\n",
        "        teste = resposta002['Resultado']\n",
        "        x = teste.split(\", \")\n",
        "        if x[2] == 'Alto Risco':\n",
        "            texto_resposta['text'] = f'''\n",
        "            Consessão de Crédito Negada!\n",
        "            {resposta002['Resultado']}\n",
        "            Motivo: Cliente com Alto Risco de Fraude no Mercado.'''\n",
        "        elif x[2] == 'Medio Risco':    \n",
        "            texto_resposta['text'] = f'''\n",
        "            Consessão de Crédito em Análise!\n",
        "            {resposta002['Resultado']}\n",
        "            Motivo: Cliente sob Avaliação do Banco.'''\n",
        "        elif x[2] == 'Baixo Risco':    \n",
        "            texto_resposta['text'] = f'''\n",
        "            Consessão de Crédito Aprovada!\n",
        "            {resposta002['Resultado']}\n",
        "            Motivo: Cliente com Baixo Risco de Inadimplencia e Fraude no Mercado.'''\n",
        "\n",
        "def get_cpf():\n",
        "    cpf = e_cpf.get()\n",
        "    return cpf\n",
        "\n",
        "janela = Tk()\n",
        "janela.title(\"Analise de Credito\")\n",
        "\n",
        "texto = Label(janela, text=\"Favor informar CPF para realizar a Analise\")\n",
        "texto.grid(column=0, row=0, padx=5, pady=5)\n",
        "\n",
        "e_cpf = Entry(janela, text='CPF',width=25, justify='left', font=('',15), highlightthickness=1,relief='solid' )\n",
        "e_cpf.grid(column=0, row=1, padx=5, pady=5)\n",
        "\n",
        "botao = Button(janela, text=\"OK\", command=analise_cred)\n",
        "botao.grid(column=0, row=2, padx=5, pady=5)\n",
        "\n",
        "resp_cpf = Label(janela, text=\"\")\n",
        "resp_cpf.grid(column=0, row=3, padx=5, pady=5)\n",
        "\n",
        "texto_resposta = Label(janela, text=\"\")\n",
        "texto_resposta.grid(column=0, row=4, padx=5, pady=5)\n",
        "\n",
        "janela.mainloop()\n"
      ]
    },
    {
      "cell_type": "code",
      "execution_count": null,
      "metadata": {},
      "outputs": [],
      "source": []
    }
  ],
  "metadata": {
    "colab": {
      "provenance": [],
      "toc_visible": true
    },
    "kernelspec": {
      "display_name": "Python 3",
      "name": "python3"
    },
    "language_info": {
      "codemirror_mode": {
        "name": "ipython",
        "version": 3
      },
      "file_extension": ".py",
      "mimetype": "text/x-python",
      "name": "python",
      "nbconvert_exporter": "python",
      "pygments_lexer": "ipython3",
      "version": "3.11.5"
    }
  },
  "nbformat": 4,
  "nbformat_minor": 0
}
