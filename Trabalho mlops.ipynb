{
  "cells": [
    {
      "cell_type": "code",
      "execution_count": null,
      "metadata": {},
      "outputs": [],
      "source": [
        "!pip install requests"
      ]
    },
    {
      "cell_type": "code",
      "execution_count": 25,
      "metadata": {
        "id": "bL7_Uitf-_Uv"
      },
      "outputs": [],
      "source": [
        "import requests\n",
        "import json"
      ]
    },
    {
      "cell_type": "markdown",
      "metadata": {},
      "source": [
        "# Configurações para Executar Modelos em Docker Local "
      ]
    },
    {
      "cell_type": "code",
      "execution_count": 26,
      "metadata": {
        "id": "AII-AcywAFml"
      },
      "outputs": [],
      "source": [
        "#IP do servidor local da aplicação no docker:\n",
        "app_ip = \"localhost\"\n",
        "\n",
        "#Porta do servidor de predição de Fraude especificada no docker:\n",
        "fraude_porta = \"10005\"\n",
        "\n",
        "#Porta do servidor de predição de Inadimplencia especificada no docker:\n",
        "inadimplencia_porta = \"10006\""
      ]
    },
    {
      "cell_type": "markdown",
      "metadata": {},
      "source": [
        "Predição de Risco de Fraude"
      ]
    },
    {
      "cell_type": "code",
      "execution_count": 27,
      "metadata": {
        "id": "qE27sOO0GPFC"
      },
      "outputs": [],
      "source": [
        "# informe o cpf\n",
        "cpf01 = \"123456789\""
      ]
    },
    {
      "cell_type": "code",
      "execution_count": 31,
      "metadata": {
        "colab": {
          "base_uri": "https://localhost:8080/",
          "height": 436
        },
        "id": "ufspC1N0ExsM",
        "outputId": "ce146c4f-95c0-41d6-fe40-3e6dcf9dc6cb"
      },
      "outputs": [
        {
          "data": {
            "text/plain": [
              "{'Consulta Risco de Fraude para o CPF': '123456789',\n",
              " 'Resultado': 'Grupo de Investidores, Persona Investidor de Alto Patrimônio Líquido, Baixo Risco',\n",
              " 'Mensagem': 'Obrigado pela chamada de API'}"
            ]
          },
          "execution_count": 31,
          "metadata": {},
          "output_type": "execute_result"
        }
      ],
      "source": [
        "url01 = \"http://{}:{}/fraude?cpf={}\".format(app_ip, fraude_porta,cpf01)\n",
        "response01 = requests.request(\"POST\",url01)\n",
        "respostas01 = json.loads(response01.text.encode('utf8').decode())\n",
        "respostas01"
      ]
    },
    {
      "cell_type": "markdown",
      "metadata": {},
      "source": [
        "Predição de Risco de Inadimplencia"
      ]
    },
    {
      "cell_type": "code",
      "execution_count": 35,
      "metadata": {},
      "outputs": [],
      "source": [
        "# informe o cpf\n",
        "cpf02 = \"45948946241\""
      ]
    },
    {
      "cell_type": "code",
      "execution_count": 36,
      "metadata": {
        "colab": {
          "base_uri": "https://localhost:8080/",
          "height": 85
        },
        "id": "3X_p_bAPFXhr",
        "outputId": "209879fc-d4b3-41a0-f610-d0862038a978"
      },
      "outputs": [
        {
          "data": {
            "text/plain": [
              "{'Consulta Risco de Inadimplencia para o CPF': '45948946241',\n",
              " 'Resultado': 1,\n",
              " 'Situacao': 'inadimplente',\n",
              " 'Mensagem': 'Obrigado pela chamada de API'}"
            ]
          },
          "execution_count": 36,
          "metadata": {},
          "output_type": "execute_result"
        }
      ],
      "source": [
        "url02 = \"http://{}:{}/inadimplencia?cpf={}\".format(app_ip,inadimplencia_porta,cpf02)\n",
        "response02 = requests.request(\"POST\",url02)\n",
        "respostas02 = json.loads(response02.text.encode('utf8').decode())\n",
        "respostas02"
      ]
    },
    {
      "cell_type": "markdown",
      "metadata": {},
      "source": [
        "## Configurações para Executar Modelos (Model Manager) da Azure."
      ]
    },
    {
      "cell_type": "code",
      "execution_count": null,
      "metadata": {},
      "outputs": [],
      "source": [
        "#IP do Maquina Virtual na Azure:\n",
        "server_ip = \"20.232.10.13\"\n",
        "\n",
        "#Porta do servidor de predição na Azure:\n",
        "server_port = \"443\"\n",
        "\n",
        "url = \"http://{}:{}/predict\".format(server_ip,server_port)"
      ]
    },
    {
      "cell_type": "markdown",
      "metadata": {},
      "source": [
        "CPF do cliente será submetido aos dois modelos para a análise de Risco de Fraude e Inadimplencia."
      ]
    },
    {
      "cell_type": "code",
      "execution_count": null,
      "metadata": {},
      "outputs": [],
      "source": [
        "# informe o cpf\n",
        "cpf = \"123456789\""
      ]
    },
    {
      "cell_type": "code",
      "execution_count": null,
      "metadata": {},
      "outputs": [],
      "source": [
        "response001 = requests.request(\"POST\", url + f\"?model=modelo01&cpf={cpf}\" )\n",
        "#respostas01 = json.loads(response01.text.encode('utf8').decode())\n",
        "#respostas01\n",
        "print(response001.text.encode('utf8').decode())\n",
        "\n",
        "response002 = requests.request(\"POST\", url + f\"?model=modelo02&cpf={cpf}\" )\n",
        "#respostas01 = json.loads(response01.text.encode('utf8').decode())\n",
        "#respostas01\n",
        "print(response002.text.encode('utf8').decode())"
      ]
    }
  ],
  "metadata": {
    "colab": {
      "provenance": [],
      "toc_visible": true
    },
    "kernelspec": {
      "display_name": "Python 3",
      "name": "python3"
    },
    "language_info": {
      "codemirror_mode": {
        "name": "ipython",
        "version": 3
      },
      "file_extension": ".py",
      "mimetype": "text/x-python",
      "name": "python",
      "nbconvert_exporter": "python",
      "pygments_lexer": "ipython3",
      "version": "3.8.16"
    }
  },
  "nbformat": 4,
  "nbformat_minor": 0
}
