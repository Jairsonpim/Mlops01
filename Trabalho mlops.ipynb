{
  "cells": [
    {
      "cell_type": "code",
      "execution_count": 2,
      "metadata": {},
      "outputs": [
        {
          "name": "stdout",
          "output_type": "stream",
          "text": [
            "Requirement already satisfied: requests in c:\\users\\jairs\\appdata\\local\\packages\\pythonsoftwarefoundation.python.3.11_qbz5n2kfra8p0\\localcache\\local-packages\\python311\\site-packages (2.31.0)\n",
            "Requirement already satisfied: charset-normalizer<4,>=2 in c:\\users\\jairs\\appdata\\local\\packages\\pythonsoftwarefoundation.python.3.11_qbz5n2kfra8p0\\localcache\\local-packages\\python311\\site-packages (from requests) (3.2.0)\n",
            "Requirement already satisfied: idna<4,>=2.5 in c:\\users\\jairs\\appdata\\local\\packages\\pythonsoftwarefoundation.python.3.11_qbz5n2kfra8p0\\localcache\\local-packages\\python311\\site-packages (from requests) (3.4)\n",
            "Requirement already satisfied: urllib3<3,>=1.21.1 in c:\\users\\jairs\\appdata\\local\\packages\\pythonsoftwarefoundation.python.3.11_qbz5n2kfra8p0\\localcache\\local-packages\\python311\\site-packages (from requests) (1.26.16)\n",
            "Requirement already satisfied: certifi>=2017.4.17 in c:\\users\\jairs\\appdata\\local\\packages\\pythonsoftwarefoundation.python.3.11_qbz5n2kfra8p0\\localcache\\local-packages\\python311\\site-packages (from requests) (2023.7.22)\n"
          ]
        }
      ],
      "source": [
        "#pip install requests"
      ]
    },
    {
      "cell_type": "code",
      "execution_count": 3,
      "metadata": {
        "id": "bL7_Uitf-_Uv"
      },
      "outputs": [],
      "source": [
        "import requests\n",
        "import json"
      ]
    },
    {
      "cell_type": "markdown",
      "metadata": {},
      "source": [
        "Configurações para Executar Modelos em Docker Local "
      ]
    },
    {
      "cell_type": "code",
      "execution_count": 15,
      "metadata": {
        "id": "AII-AcywAFml"
      },
      "outputs": [],
      "source": [
        "#IP do servidor local da aplicação no docker:\n",
        "app_ip = \"localhost\"\n",
        "\n",
        "#Porta do servidor de predição de Fraude especificada no docker:\n",
        "fraude_porta = \"10005\"\n",
        "\n",
        "#Porta do servidor de predição de Inadimplencia especificada no docker:\n",
        "inadimplencia_porta = \"10006\"\n",
        "\n",
        "## OBS: NECESSÁRIO TER O DOCKER INSTALADO NO PC!!! "
      ]
    },
    {
      "cell_type": "markdown",
      "metadata": {},
      "source": [
        "## Parte 1 – Propensão de inadimplência (Modelo 'Fake')"
      ]
    },
    {
      "cell_type": "code",
      "execution_count": 5,
      "metadata": {
        "id": "qE27sOO0GPFC"
      },
      "outputs": [],
      "source": [
        "# informe o cpf\n",
        "cpf01 = \"123456789\""
      ]
    },
    {
      "cell_type": "code",
      "execution_count": 7,
      "metadata": {
        "colab": {
          "base_uri": "https://localhost:8080/",
          "height": 436
        },
        "id": "ufspC1N0ExsM",
        "outputId": "ce146c4f-95c0-41d6-fe40-3e6dcf9dc6cb"
      },
      "outputs": [
        {
          "name": "stdout",
          "output_type": "stream",
          "text": [
            "http://20.83.189.234:10005/fraude?cpf=123456789\n"
          ]
        }
      ],
      "source": [
        "url01 = \"http://{}:{}/inadimplencia?cpf={}\".format(app_ip, inadimplencia_porta,cpf01)\n",
        "print(url01)\n",
        "\n",
        "response01 = requests.request(\"POST\",url01)\n",
        "respostas01 = json.loads(response01.text.encode('utf8').decode())\n",
        "respostas01"
      ]
    },
    {
      "cell_type": "markdown",
      "metadata": {},
      "source": [
        "## Parte 2 – Propensão a Fraude (Modelo 'Fake')"
      ]
    },
    {
      "cell_type": "code",
      "execution_count": 35,
      "metadata": {},
      "outputs": [],
      "source": [
        "# informe o cpf\n",
        "cpf02 = \"45948946241\""
      ]
    },
    {
      "cell_type": "code",
      "execution_count": 36,
      "metadata": {
        "colab": {
          "base_uri": "https://localhost:8080/",
          "height": 85
        },
        "id": "3X_p_bAPFXhr",
        "outputId": "209879fc-d4b3-41a0-f610-d0862038a978"
      },
      "outputs": [
        {
          "data": {
            "text/plain": [
              "{'Consulta Risco de Inadimplencia para o CPF': '45948946241',\n",
              " 'Resultado': 1,\n",
              " 'Situacao': 'inadimplente',\n",
              " 'Mensagem': 'Obrigado pela chamada de API'}"
            ]
          },
          "execution_count": 36,
          "metadata": {},
          "output_type": "execute_result"
        }
      ],
      "source": [
        "url02 = \"http://{}:{}/inadimplencia?cpf={}\".format(app_ip,inadimplencia_porta,cpf02)\n",
        "response02 = requests.request(\"POST\",url02)\n",
        "respostas02 = json.loads(response02.text.encode('utf8').decode())\n",
        "respostas02"
      ]
    },
    {
      "cell_type": "markdown",
      "metadata": {},
      "source": [
        "## Parte 3 – Criação da Plataforma Cognitiva (Model Manager) na Azure."
      ]
    },
    {
      "cell_type": "code",
      "execution_count": 35,
      "metadata": {},
      "outputs": [],
      "source": [
        "#IP do Maquina Virtual na Azure:\n",
        "server_ip = \"20.51.209.190\"\n",
        "\n",
        "#Porta do servidor de predição na Azure:\n",
        "server_port = \"443\"\n",
        "\n",
        "url = \"http://{}:{}/predict\".format(server_ip,server_port)"
      ]
    },
    {
      "cell_type": "markdown",
      "metadata": {},
      "source": [
        "CPF do cliente será submetido aos dois modelos para a análise de Risco de Fraude e Inadimplencia."
      ]
    },
    {
      "cell_type": "code",
      "execution_count": 36,
      "metadata": {},
      "outputs": [],
      "source": [
        "# informe o cpf\n",
        "cpf = \"123456789\""
      ]
    },
    {
      "cell_type": "code",
      "execution_count": 37,
      "metadata": {},
      "outputs": [
        {
          "data": {
            "text/plain": [
              "{'Consulta Risco de Inadimplencia para o CPF': '1234567890',\n",
              " 'Resultado': 0,\n",
              " 'Situacao': 'normal',\n",
              " 'Mensagem': 'Obrigado pela chamada de API'}"
            ]
          },
          "execution_count": 37,
          "metadata": {},
          "output_type": "execute_result"
        }
      ],
      "source": [
        "response001 = requests.request(\"POST\", url + f\"?model=modelo01&cpf={cpf}\" )\n",
        "resposta001 = json.loads(response001.text.encode('utf8').decode())\n",
        "resposta001"
      ]
    },
    {
      "cell_type": "code",
      "execution_count": 38,
      "metadata": {},
      "outputs": [
        {
          "data": {
            "text/plain": [
              "{'Consulta Risco de Fraude para o CPF': '1234567890',\n",
              " 'Resultado': 'Grupo de Agricultores, Persona Agricultor com Renda Variável, Alto Risco',\n",
              " 'Mensagem': 'Obrigado pela chamada de API'}"
            ]
          },
          "execution_count": 38,
          "metadata": {},
          "output_type": "execute_result"
        }
      ],
      "source": [
        "response002 = requests.request(\"POST\", url + f\"?model=modelo02&cpf={cpf}\" )\n",
        "resposta002 = json.loads(response002.text.encode('utf8').decode())\n",
        "resposta002"
      ]
    },
    {
      "cell_type": "markdown",
      "metadata": {},
      "source": [
        "## Parte 4 – Transformação em Solução Corporativa"
      ]
    },
    {
      "cell_type": "code",
      "execution_count": 67,
      "metadata": {},
      "outputs": [
        {
          "name": "stdout",
          "output_type": "stream",
          "text": [
            "Resultado da Analise de Credito para o CPF: 123456789\n",
            "Consessão de Crédito Negada!\n",
            "Motivo: Cliente com Alto Risco de Inadimplencia no Mercado.\n"
          ]
        }
      ],
      "source": [
        "cpf = '123456789' \n",
        "\n",
        "response001 = requests.request(\"POST\", url + f\"?model=modelo01&cpf={cpf}\" )\n",
        "resposta001 = json.loads(response001.text.encode('utf8').decode())\n",
        "response002 = requests.request(\"POST\", url + f\"?model=modelo02&cpf={cpf}\" )\n",
        "resposta002 = json.loads(response002.text.encode('utf8').decode())\n",
        "\n",
        "list = []\n",
        "\n",
        "print('Resultado da Analise de Credito para o CPF: '+cpf)\n",
        "\n",
        "if (resposta001['Resultado']) == 1:\n",
        "    print('Consessão de Crédito Negada!')\n",
        "    print('Motivo: Cliente com Alto Risco de Inadimplencia no Mercado.')\n",
        "else:\n",
        "    teste = resposta002['Resultado']\n",
        "    x = teste.split(\", \")\n",
        "    if x[2] == 'Alto Risco':\n",
        "        print('Consessão de Crédito Negada!')\n",
        "        print(resposta002['Resultado'])\n",
        "        print('Motivo: Cliente com Alto Risco de Fraude no Mercado.')\n",
        "    elif x[2] == 'Medio Risco':    \n",
        "        print('Consessão de Crédito em Análise!')\n",
        "        print(resposta002['Resultado'])\n",
        "        print('Motivo: Cliente sob Avaliação do Banco.')\n",
        "    elif x[2] == 'Baixo Risco':    \n",
        "        print('Consessão de Crédito Aprovada!')\n",
        "        print(resposta002['Resultado'])\n",
        "        print('Motivo: Cliente com Baixo Risco de Inadimplencia e Fraude no Mercado.')\n",
        "\n",
        "#list#.append\n"
      ]
    },
    {
      "cell_type": "code",
      "execution_count": null,
      "metadata": {},
      "outputs": [],
      "source": []
    }
  ],
  "metadata": {
    "colab": {
      "provenance": [],
      "toc_visible": true
    },
    "kernelspec": {
      "display_name": "Python 3",
      "name": "python3"
    },
    "language_info": {
      "codemirror_mode": {
        "name": "ipython",
        "version": 3
      },
      "file_extension": ".py",
      "mimetype": "text/x-python",
      "name": "python",
      "nbconvert_exporter": "python",
      "pygments_lexer": "ipython3",
      "version": "3.11.5"
    }
  },
  "nbformat": 4,
  "nbformat_minor": 0
}
